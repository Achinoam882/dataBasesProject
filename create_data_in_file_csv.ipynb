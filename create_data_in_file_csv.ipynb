{
  "nbformat": 4,
  "nbformat_minor": 0,
  "metadata": {
    "colab": {
      "name": "create data in file csv.ipynb",
      "provenance": [],
      "collapsed_sections": [],
      "authorship_tag": "ABX9TyPrPlHVhRs8hUrXKWisJvKa",
      "include_colab_link": true
    },
    "kernelspec": {
      "name": "python3",
      "display_name": "Python 3"
    },
    "language_info": {
      "name": "python"
    }
  },
  "cells": [
    {
      "cell_type": "markdown",
      "metadata": {
        "id": "view-in-github",
        "colab_type": "text"
      },
      "source": [
        "<a href=\"https://colab.research.google.com/github/Achinoam882/dataBasesProject/blob/main/create_data_in_file_csv.ipynb\" target=\"_parent\"><img src=\"https://colab.research.google.com/assets/colab-badge.svg\" alt=\"Open In Colab\"/></a>"
      ]
    },
    {
      "cell_type": "code",
      "execution_count": 1,
      "metadata": {
        "colab": {
          "base_uri": "https://localhost:8080/"
        },
        "id": "fV_YAsciEdkz",
        "outputId": "84647f79-0048-4efa-f6ab-89757ed8ab2e"
      },
      "outputs": [
        {
          "output_type": "stream",
          "name": "stdout",
          "text": [
            "Collecting names\n",
            "  Downloading names-0.3.0.tar.gz (789 kB)\n",
            "\u001b[?25l\r\u001b[K     |▍                               | 10 kB 16.1 MB/s eta 0:00:01\r\u001b[K     |▉                               | 20 kB 17.5 MB/s eta 0:00:01\r\u001b[K     |█▎                              | 30 kB 11.8 MB/s eta 0:00:01\r\u001b[K     |█▋                              | 40 kB 9.6 MB/s eta 0:00:01\r\u001b[K     |██                              | 51 kB 6.8 MB/s eta 0:00:01\r\u001b[K     |██▌                             | 61 kB 7.9 MB/s eta 0:00:01\r\u001b[K     |███                             | 71 kB 7.8 MB/s eta 0:00:01\r\u001b[K     |███▎                            | 81 kB 7.1 MB/s eta 0:00:01\r\u001b[K     |███▊                            | 92 kB 7.8 MB/s eta 0:00:01\r\u001b[K     |████▏                           | 102 kB 7.5 MB/s eta 0:00:01\r\u001b[K     |████▋                           | 112 kB 7.5 MB/s eta 0:00:01\r\u001b[K     |█████                           | 122 kB 7.5 MB/s eta 0:00:01\r\u001b[K     |█████▍                          | 133 kB 7.5 MB/s eta 0:00:01\r\u001b[K     |█████▉                          | 143 kB 7.5 MB/s eta 0:00:01\r\u001b[K     |██████▎                         | 153 kB 7.5 MB/s eta 0:00:01\r\u001b[K     |██████▋                         | 163 kB 7.5 MB/s eta 0:00:01\r\u001b[K     |███████                         | 174 kB 7.5 MB/s eta 0:00:01\r\u001b[K     |███████▌                        | 184 kB 7.5 MB/s eta 0:00:01\r\u001b[K     |████████                        | 194 kB 7.5 MB/s eta 0:00:01\r\u001b[K     |████████▎                       | 204 kB 7.5 MB/s eta 0:00:01\r\u001b[K     |████████▊                       | 215 kB 7.5 MB/s eta 0:00:01\r\u001b[K     |█████████▏                      | 225 kB 7.5 MB/s eta 0:00:01\r\u001b[K     |█████████▌                      | 235 kB 7.5 MB/s eta 0:00:01\r\u001b[K     |██████████                      | 245 kB 7.5 MB/s eta 0:00:01\r\u001b[K     |██████████▍                     | 256 kB 7.5 MB/s eta 0:00:01\r\u001b[K     |██████████▉                     | 266 kB 7.5 MB/s eta 0:00:01\r\u001b[K     |███████████▏                    | 276 kB 7.5 MB/s eta 0:00:01\r\u001b[K     |███████████▋                    | 286 kB 7.5 MB/s eta 0:00:01\r\u001b[K     |████████████                    | 296 kB 7.5 MB/s eta 0:00:01\r\u001b[K     |████████████▌                   | 307 kB 7.5 MB/s eta 0:00:01\r\u001b[K     |████████████▉                   | 317 kB 7.5 MB/s eta 0:00:01\r\u001b[K     |█████████████▎                  | 327 kB 7.5 MB/s eta 0:00:01\r\u001b[K     |█████████████▊                  | 337 kB 7.5 MB/s eta 0:00:01\r\u001b[K     |██████████████▏                 | 348 kB 7.5 MB/s eta 0:00:01\r\u001b[K     |██████████████▌                 | 358 kB 7.5 MB/s eta 0:00:01\r\u001b[K     |███████████████                 | 368 kB 7.5 MB/s eta 0:00:01\r\u001b[K     |███████████████▍                | 378 kB 7.5 MB/s eta 0:00:01\r\u001b[K     |███████████████▉                | 389 kB 7.5 MB/s eta 0:00:01\r\u001b[K     |████████████████▏               | 399 kB 7.5 MB/s eta 0:00:01\r\u001b[K     |████████████████▋               | 409 kB 7.5 MB/s eta 0:00:01\r\u001b[K     |█████████████████               | 419 kB 7.5 MB/s eta 0:00:01\r\u001b[K     |█████████████████▍              | 430 kB 7.5 MB/s eta 0:00:01\r\u001b[K     |█████████████████▉              | 440 kB 7.5 MB/s eta 0:00:01\r\u001b[K     |██████████████████▎             | 450 kB 7.5 MB/s eta 0:00:01\r\u001b[K     |██████████████████▊             | 460 kB 7.5 MB/s eta 0:00:01\r\u001b[K     |███████████████████             | 471 kB 7.5 MB/s eta 0:00:01\r\u001b[K     |███████████████████▌            | 481 kB 7.5 MB/s eta 0:00:01\r\u001b[K     |████████████████████            | 491 kB 7.5 MB/s eta 0:00:01\r\u001b[K     |████████████████████▍           | 501 kB 7.5 MB/s eta 0:00:01\r\u001b[K     |████████████████████▊           | 512 kB 7.5 MB/s eta 0:00:01\r\u001b[K     |█████████████████████▏          | 522 kB 7.5 MB/s eta 0:00:01\r\u001b[K     |█████████████████████▋          | 532 kB 7.5 MB/s eta 0:00:01\r\u001b[K     |██████████████████████          | 542 kB 7.5 MB/s eta 0:00:01\r\u001b[K     |██████████████████████▍         | 552 kB 7.5 MB/s eta 0:00:01\r\u001b[K     |██████████████████████▉         | 563 kB 7.5 MB/s eta 0:00:01\r\u001b[K     |███████████████████████▎        | 573 kB 7.5 MB/s eta 0:00:01\r\u001b[K     |███████████████████████▊        | 583 kB 7.5 MB/s eta 0:00:01\r\u001b[K     |████████████████████████        | 593 kB 7.5 MB/s eta 0:00:01\r\u001b[K     |████████████████████████▌       | 604 kB 7.5 MB/s eta 0:00:01\r\u001b[K     |█████████████████████████       | 614 kB 7.5 MB/s eta 0:00:01\r\u001b[K     |█████████████████████████▎      | 624 kB 7.5 MB/s eta 0:00:01\r\u001b[K     |█████████████████████████▊      | 634 kB 7.5 MB/s eta 0:00:01\r\u001b[K     |██████████████████████████▏     | 645 kB 7.5 MB/s eta 0:00:01\r\u001b[K     |██████████████████████████▋     | 655 kB 7.5 MB/s eta 0:00:01\r\u001b[K     |███████████████████████████     | 665 kB 7.5 MB/s eta 0:00:01\r\u001b[K     |███████████████████████████▍    | 675 kB 7.5 MB/s eta 0:00:01\r\u001b[K     |███████████████████████████▉    | 686 kB 7.5 MB/s eta 0:00:01\r\u001b[K     |████████████████████████████▎   | 696 kB 7.5 MB/s eta 0:00:01\r\u001b[K     |████████████████████████████▋   | 706 kB 7.5 MB/s eta 0:00:01\r\u001b[K     |█████████████████████████████   | 716 kB 7.5 MB/s eta 0:00:01\r\u001b[K     |█████████████████████████████▌  | 727 kB 7.5 MB/s eta 0:00:01\r\u001b[K     |██████████████████████████████  | 737 kB 7.5 MB/s eta 0:00:01\r\u001b[K     |██████████████████████████████▎ | 747 kB 7.5 MB/s eta 0:00:01\r\u001b[K     |██████████████████████████████▊ | 757 kB 7.5 MB/s eta 0:00:01\r\u001b[K     |███████████████████████████████▏| 768 kB 7.5 MB/s eta 0:00:01\r\u001b[K     |███████████████████████████████▋| 778 kB 7.5 MB/s eta 0:00:01\r\u001b[K     |████████████████████████████████| 788 kB 7.5 MB/s eta 0:00:01\r\u001b[K     |████████████████████████████████| 789 kB 7.5 MB/s \n",
            "\u001b[?25hBuilding wheels for collected packages: names\n",
            "  Building wheel for names (setup.py) ... \u001b[?25l\u001b[?25hdone\n",
            "  Created wheel for names: filename=names-0.3.0-py3-none-any.whl size=803699 sha256=cff21ed5c344c1841cc8aa744318b59bbed0bb717dd3f9ac4e830d0c7f64e4f8\n",
            "  Stored in directory: /root/.cache/pip/wheels/05/ea/68/92f6b0669e478af9b7c3c524520d03050089e034edcc775c2b\n",
            "Successfully built names\n",
            "Installing collected packages: names\n",
            "Successfully installed names-0.3.0\n"
          ]
        }
      ],
      "source": [
        "pip install names"
      ]
    },
    {
      "cell_type": "code",
      "source": [
        "import names"
      ],
      "metadata": {
        "id": "Ec0-E-18Eo1Z"
      },
      "execution_count": 2,
      "outputs": []
    },
    {
      "cell_type": "code",
      "source": [
        "import random"
      ],
      "metadata": {
        "id": "SsnbsMbuEsJS"
      },
      "execution_count": 3,
      "outputs": []
    },
    {
      "cell_type": "code",
      "source": [
        ""
      ],
      "metadata": {
        "id": "tAw1O35gK_lz"
      },
      "execution_count": null,
      "outputs": []
    },
    {
      "cell_type": "code",
      "source": [
        "from functools import reduce"
      ],
      "metadata": {
        "id": "de3eKnbYFes9"
      },
      "execution_count": 4,
      "outputs": []
    },
    {
      "cell_type": "code",
      "source": [
        "import pandas as pd"
      ],
      "metadata": {
        "id": "f2MogkDkFtCM"
      },
      "execution_count": 5,
      "outputs": []
    },
    {
      "cell_type": "code",
      "source": [
        "def create_random_csv_data_with_pandas(n):\n",
        "  payment_id = range(1,n + 1)\n",
        "  lst = ['Cards', 'Check', 'Cash' , 'GiftCards']\n",
        "  type_of_payment = random.choices(lst, k=1000)\n",
        "  payment_name = map(names.get_full_name, range(1,n + 1)) \n",
        "  #receipt_id = np.random.randint(1, n, size=n)\n",
        "  receipt_id = map(str, random.sample(range(1,n + 1), n))\n",
        "  data = {'payment_id' : payment_id,\n",
        "          'type_of_payment' : type_of_payment,\n",
        "          'payment_name' : payment_name, \n",
        "          'receipt_id' : receipt_id}\n",
        "  df = pd.DataFrame(data)\n",
        "  return df"
      ],
      "metadata": {
        "id": "5eZNprKYFxQe"
      },
      "execution_count": 8,
      "outputs": []
    },
    {
      "cell_type": "code",
      "source": [
        "df = create_random_csv_data_with_pandas(1000)"
      ],
      "metadata": {
        "id": "82SZe4DTLSsz"
      },
      "execution_count": 9,
      "outputs": []
    },
    {
      "cell_type": "code",
      "source": [
        "df"
      ],
      "metadata": {
        "colab": {
          "base_uri": "https://localhost:8080/",
          "height": 424
        },
        "id": "nCqE8BPCzdg3",
        "outputId": "5d9c8f57-dd61-4eb8-8420-181b9ca13b70"
      },
      "execution_count": 10,
      "outputs": [
        {
          "output_type": "execute_result",
          "data": {
            "text/plain": [
              "     payment_id type_of_payment        payment_name receipt_id\n",
              "0             1           Check        Ronald Pflug        228\n",
              "1             2           Cards  Marion Kirkpatrick        363\n",
              "2             3            Cash          Jose Wells        264\n",
              "3             4           Cards          Jane Reese        550\n",
              "4             5            Cash     Guillermo Means        218\n",
              "..          ...             ...                 ...        ...\n",
              "995         996           Check       Nellie Bouton        792\n",
              "996         997       GiftCards       Timothy Quist        803\n",
              "997         998           Cards         Joseph Sapp        730\n",
              "998         999           Check   Donald Richardson        104\n",
              "999        1000           Cards       Bobby Delgado        667\n",
              "\n",
              "[1000 rows x 4 columns]"
            ],
            "text/html": [
              "\n",
              "  <div id=\"df-20e52b62-4b71-4ac1-841e-9caf0a06c429\">\n",
              "    <div class=\"colab-df-container\">\n",
              "      <div>\n",
              "<style scoped>\n",
              "    .dataframe tbody tr th:only-of-type {\n",
              "        vertical-align: middle;\n",
              "    }\n",
              "\n",
              "    .dataframe tbody tr th {\n",
              "        vertical-align: top;\n",
              "    }\n",
              "\n",
              "    .dataframe thead th {\n",
              "        text-align: right;\n",
              "    }\n",
              "</style>\n",
              "<table border=\"1\" class=\"dataframe\">\n",
              "  <thead>\n",
              "    <tr style=\"text-align: right;\">\n",
              "      <th></th>\n",
              "      <th>payment_id</th>\n",
              "      <th>type_of_payment</th>\n",
              "      <th>payment_name</th>\n",
              "      <th>receipt_id</th>\n",
              "    </tr>\n",
              "  </thead>\n",
              "  <tbody>\n",
              "    <tr>\n",
              "      <th>0</th>\n",
              "      <td>1</td>\n",
              "      <td>Check</td>\n",
              "      <td>Ronald Pflug</td>\n",
              "      <td>228</td>\n",
              "    </tr>\n",
              "    <tr>\n",
              "      <th>1</th>\n",
              "      <td>2</td>\n",
              "      <td>Cards</td>\n",
              "      <td>Marion Kirkpatrick</td>\n",
              "      <td>363</td>\n",
              "    </tr>\n",
              "    <tr>\n",
              "      <th>2</th>\n",
              "      <td>3</td>\n",
              "      <td>Cash</td>\n",
              "      <td>Jose Wells</td>\n",
              "      <td>264</td>\n",
              "    </tr>\n",
              "    <tr>\n",
              "      <th>3</th>\n",
              "      <td>4</td>\n",
              "      <td>Cards</td>\n",
              "      <td>Jane Reese</td>\n",
              "      <td>550</td>\n",
              "    </tr>\n",
              "    <tr>\n",
              "      <th>4</th>\n",
              "      <td>5</td>\n",
              "      <td>Cash</td>\n",
              "      <td>Guillermo Means</td>\n",
              "      <td>218</td>\n",
              "    </tr>\n",
              "    <tr>\n",
              "      <th>...</th>\n",
              "      <td>...</td>\n",
              "      <td>...</td>\n",
              "      <td>...</td>\n",
              "      <td>...</td>\n",
              "    </tr>\n",
              "    <tr>\n",
              "      <th>995</th>\n",
              "      <td>996</td>\n",
              "      <td>Check</td>\n",
              "      <td>Nellie Bouton</td>\n",
              "      <td>792</td>\n",
              "    </tr>\n",
              "    <tr>\n",
              "      <th>996</th>\n",
              "      <td>997</td>\n",
              "      <td>GiftCards</td>\n",
              "      <td>Timothy Quist</td>\n",
              "      <td>803</td>\n",
              "    </tr>\n",
              "    <tr>\n",
              "      <th>997</th>\n",
              "      <td>998</td>\n",
              "      <td>Cards</td>\n",
              "      <td>Joseph Sapp</td>\n",
              "      <td>730</td>\n",
              "    </tr>\n",
              "    <tr>\n",
              "      <th>998</th>\n",
              "      <td>999</td>\n",
              "      <td>Check</td>\n",
              "      <td>Donald Richardson</td>\n",
              "      <td>104</td>\n",
              "    </tr>\n",
              "    <tr>\n",
              "      <th>999</th>\n",
              "      <td>1000</td>\n",
              "      <td>Cards</td>\n",
              "      <td>Bobby Delgado</td>\n",
              "      <td>667</td>\n",
              "    </tr>\n",
              "  </tbody>\n",
              "</table>\n",
              "<p>1000 rows × 4 columns</p>\n",
              "</div>\n",
              "      <button class=\"colab-df-convert\" onclick=\"convertToInteractive('df-20e52b62-4b71-4ac1-841e-9caf0a06c429')\"\n",
              "              title=\"Convert this dataframe to an interactive table.\"\n",
              "              style=\"display:none;\">\n",
              "        \n",
              "  <svg xmlns=\"http://www.w3.org/2000/svg\" height=\"24px\"viewBox=\"0 0 24 24\"\n",
              "       width=\"24px\">\n",
              "    <path d=\"M0 0h24v24H0V0z\" fill=\"none\"/>\n",
              "    <path d=\"M18.56 5.44l.94 2.06.94-2.06 2.06-.94-2.06-.94-.94-2.06-.94 2.06-2.06.94zm-11 1L8.5 8.5l.94-2.06 2.06-.94-2.06-.94L8.5 2.5l-.94 2.06-2.06.94zm10 10l.94 2.06.94-2.06 2.06-.94-2.06-.94-.94-2.06-.94 2.06-2.06.94z\"/><path d=\"M17.41 7.96l-1.37-1.37c-.4-.4-.92-.59-1.43-.59-.52 0-1.04.2-1.43.59L10.3 9.45l-7.72 7.72c-.78.78-.78 2.05 0 2.83L4 21.41c.39.39.9.59 1.41.59.51 0 1.02-.2 1.41-.59l7.78-7.78 2.81-2.81c.8-.78.8-2.07 0-2.86zM5.41 20L4 18.59l7.72-7.72 1.47 1.35L5.41 20z\"/>\n",
              "  </svg>\n",
              "      </button>\n",
              "      \n",
              "  <style>\n",
              "    .colab-df-container {\n",
              "      display:flex;\n",
              "      flex-wrap:wrap;\n",
              "      gap: 12px;\n",
              "    }\n",
              "\n",
              "    .colab-df-convert {\n",
              "      background-color: #E8F0FE;\n",
              "      border: none;\n",
              "      border-radius: 50%;\n",
              "      cursor: pointer;\n",
              "      display: none;\n",
              "      fill: #1967D2;\n",
              "      height: 32px;\n",
              "      padding: 0 0 0 0;\n",
              "      width: 32px;\n",
              "    }\n",
              "\n",
              "    .colab-df-convert:hover {\n",
              "      background-color: #E2EBFA;\n",
              "      box-shadow: 0px 1px 2px rgba(60, 64, 67, 0.3), 0px 1px 3px 1px rgba(60, 64, 67, 0.15);\n",
              "      fill: #174EA6;\n",
              "    }\n",
              "\n",
              "    [theme=dark] .colab-df-convert {\n",
              "      background-color: #3B4455;\n",
              "      fill: #D2E3FC;\n",
              "    }\n",
              "\n",
              "    [theme=dark] .colab-df-convert:hover {\n",
              "      background-color: #434B5C;\n",
              "      box-shadow: 0px 1px 3px 1px rgba(0, 0, 0, 0.15);\n",
              "      filter: drop-shadow(0px 1px 2px rgba(0, 0, 0, 0.3));\n",
              "      fill: #FFFFFF;\n",
              "    }\n",
              "  </style>\n",
              "\n",
              "      <script>\n",
              "        const buttonEl =\n",
              "          document.querySelector('#df-20e52b62-4b71-4ac1-841e-9caf0a06c429 button.colab-df-convert');\n",
              "        buttonEl.style.display =\n",
              "          google.colab.kernel.accessAllowed ? 'block' : 'none';\n",
              "\n",
              "        async function convertToInteractive(key) {\n",
              "          const element = document.querySelector('#df-20e52b62-4b71-4ac1-841e-9caf0a06c429');\n",
              "          const dataTable =\n",
              "            await google.colab.kernel.invokeFunction('convertToInteractive',\n",
              "                                                     [key], {});\n",
              "          if (!dataTable) return;\n",
              "\n",
              "          const docLinkHtml = 'Like what you see? Visit the ' +\n",
              "            '<a target=\"_blank\" href=https://colab.research.google.com/notebooks/data_table.ipynb>data table notebook</a>'\n",
              "            + ' to learn more about interactive tables.';\n",
              "          element.innerHTML = '';\n",
              "          dataTable['output_type'] = 'display_data';\n",
              "          await google.colab.output.renderOutput(dataTable, element);\n",
              "          const docLink = document.createElement('div');\n",
              "          docLink.innerHTML = docLinkHtml;\n",
              "          element.appendChild(docLink);\n",
              "        }\n",
              "      </script>\n",
              "    </div>\n",
              "  </div>\n",
              "  "
            ]
          },
          "metadata": {},
          "execution_count": 10
        }
      ]
    },
    {
      "cell_type": "code",
      "source": [
        ""
      ],
      "metadata": {
        "id": "F3JfkSbbhsZA"
      },
      "execution_count": null,
      "outputs": []
    },
    {
      "cell_type": "code",
      "source": [
        ""
      ],
      "metadata": {
        "id": "D03Ze2t8humB"
      },
      "execution_count": null,
      "outputs": []
    },
    {
      "cell_type": "code",
      "source": [
        "df.to_csv(\"Payment.csv\" , index=False)"
      ],
      "metadata": {
        "id": "EDBNRJjuAA7y"
      },
      "execution_count": 11,
      "outputs": []
    },
    {
      "cell_type": "code",
      "source": [
        "def create_random_csv_data_for_Client(n):\n",
        "  client_id = range(1,n + 1)\n",
        "  data = {'client_id' : client_id,}\n",
        "  df = pd.DataFrame(data)\n",
        "  return df\n",
        "\n",
        "\n"
      ],
      "metadata": {
        "id": "0mJDVsBTd6OP"
      },
      "execution_count": null,
      "outputs": []
    },
    {
      "cell_type": "code",
      "source": [
        "df = create_random_csv_data_for_Client(1000)"
      ],
      "metadata": {
        "id": "bBLobXSghzD4"
      },
      "execution_count": null,
      "outputs": []
    },
    {
      "cell_type": "code",
      "source": [
        "df"
      ],
      "metadata": {
        "id": "CrBVVzFWd73P",
        "colab": {
          "base_uri": "https://localhost:8080/",
          "height": 424
        },
        "outputId": "a691bba8-b497-4851-8a5f-57dc67fd6a7b"
      },
      "execution_count": null,
      "outputs": [
        {
          "output_type": "execute_result",
          "data": {
            "text/plain": [
              "     client_id\n",
              "0            1\n",
              "1            2\n",
              "2            3\n",
              "3            4\n",
              "4            5\n",
              "..         ...\n",
              "995        996\n",
              "996        997\n",
              "997        998\n",
              "998        999\n",
              "999       1000\n",
              "\n",
              "[1000 rows x 1 columns]"
            ],
            "text/html": [
              "\n",
              "  <div id=\"df-60bfeafc-ff11-43fb-a53f-1c4aa2dcc34e\">\n",
              "    <div class=\"colab-df-container\">\n",
              "      <div>\n",
              "<style scoped>\n",
              "    .dataframe tbody tr th:only-of-type {\n",
              "        vertical-align: middle;\n",
              "    }\n",
              "\n",
              "    .dataframe tbody tr th {\n",
              "        vertical-align: top;\n",
              "    }\n",
              "\n",
              "    .dataframe thead th {\n",
              "        text-align: right;\n",
              "    }\n",
              "</style>\n",
              "<table border=\"1\" class=\"dataframe\">\n",
              "  <thead>\n",
              "    <tr style=\"text-align: right;\">\n",
              "      <th></th>\n",
              "      <th>client_id</th>\n",
              "    </tr>\n",
              "  </thead>\n",
              "  <tbody>\n",
              "    <tr>\n",
              "      <th>0</th>\n",
              "      <td>1</td>\n",
              "    </tr>\n",
              "    <tr>\n",
              "      <th>1</th>\n",
              "      <td>2</td>\n",
              "    </tr>\n",
              "    <tr>\n",
              "      <th>2</th>\n",
              "      <td>3</td>\n",
              "    </tr>\n",
              "    <tr>\n",
              "      <th>3</th>\n",
              "      <td>4</td>\n",
              "    </tr>\n",
              "    <tr>\n",
              "      <th>4</th>\n",
              "      <td>5</td>\n",
              "    </tr>\n",
              "    <tr>\n",
              "      <th>...</th>\n",
              "      <td>...</td>\n",
              "    </tr>\n",
              "    <tr>\n",
              "      <th>995</th>\n",
              "      <td>996</td>\n",
              "    </tr>\n",
              "    <tr>\n",
              "      <th>996</th>\n",
              "      <td>997</td>\n",
              "    </tr>\n",
              "    <tr>\n",
              "      <th>997</th>\n",
              "      <td>998</td>\n",
              "    </tr>\n",
              "    <tr>\n",
              "      <th>998</th>\n",
              "      <td>999</td>\n",
              "    </tr>\n",
              "    <tr>\n",
              "      <th>999</th>\n",
              "      <td>1000</td>\n",
              "    </tr>\n",
              "  </tbody>\n",
              "</table>\n",
              "<p>1000 rows × 1 columns</p>\n",
              "</div>\n",
              "      <button class=\"colab-df-convert\" onclick=\"convertToInteractive('df-60bfeafc-ff11-43fb-a53f-1c4aa2dcc34e')\"\n",
              "              title=\"Convert this dataframe to an interactive table.\"\n",
              "              style=\"display:none;\">\n",
              "        \n",
              "  <svg xmlns=\"http://www.w3.org/2000/svg\" height=\"24px\"viewBox=\"0 0 24 24\"\n",
              "       width=\"24px\">\n",
              "    <path d=\"M0 0h24v24H0V0z\" fill=\"none\"/>\n",
              "    <path d=\"M18.56 5.44l.94 2.06.94-2.06 2.06-.94-2.06-.94-.94-2.06-.94 2.06-2.06.94zm-11 1L8.5 8.5l.94-2.06 2.06-.94-2.06-.94L8.5 2.5l-.94 2.06-2.06.94zm10 10l.94 2.06.94-2.06 2.06-.94-2.06-.94-.94-2.06-.94 2.06-2.06.94z\"/><path d=\"M17.41 7.96l-1.37-1.37c-.4-.4-.92-.59-1.43-.59-.52 0-1.04.2-1.43.59L10.3 9.45l-7.72 7.72c-.78.78-.78 2.05 0 2.83L4 21.41c.39.39.9.59 1.41.59.51 0 1.02-.2 1.41-.59l7.78-7.78 2.81-2.81c.8-.78.8-2.07 0-2.86zM5.41 20L4 18.59l7.72-7.72 1.47 1.35L5.41 20z\"/>\n",
              "  </svg>\n",
              "      </button>\n",
              "      \n",
              "  <style>\n",
              "    .colab-df-container {\n",
              "      display:flex;\n",
              "      flex-wrap:wrap;\n",
              "      gap: 12px;\n",
              "    }\n",
              "\n",
              "    .colab-df-convert {\n",
              "      background-color: #E8F0FE;\n",
              "      border: none;\n",
              "      border-radius: 50%;\n",
              "      cursor: pointer;\n",
              "      display: none;\n",
              "      fill: #1967D2;\n",
              "      height: 32px;\n",
              "      padding: 0 0 0 0;\n",
              "      width: 32px;\n",
              "    }\n",
              "\n",
              "    .colab-df-convert:hover {\n",
              "      background-color: #E2EBFA;\n",
              "      box-shadow: 0px 1px 2px rgba(60, 64, 67, 0.3), 0px 1px 3px 1px rgba(60, 64, 67, 0.15);\n",
              "      fill: #174EA6;\n",
              "    }\n",
              "\n",
              "    [theme=dark] .colab-df-convert {\n",
              "      background-color: #3B4455;\n",
              "      fill: #D2E3FC;\n",
              "    }\n",
              "\n",
              "    [theme=dark] .colab-df-convert:hover {\n",
              "      background-color: #434B5C;\n",
              "      box-shadow: 0px 1px 3px 1px rgba(0, 0, 0, 0.15);\n",
              "      filter: drop-shadow(0px 1px 2px rgba(0, 0, 0, 0.3));\n",
              "      fill: #FFFFFF;\n",
              "    }\n",
              "  </style>\n",
              "\n",
              "      <script>\n",
              "        const buttonEl =\n",
              "          document.querySelector('#df-60bfeafc-ff11-43fb-a53f-1c4aa2dcc34e button.colab-df-convert');\n",
              "        buttonEl.style.display =\n",
              "          google.colab.kernel.accessAllowed ? 'block' : 'none';\n",
              "\n",
              "        async function convertToInteractive(key) {\n",
              "          const element = document.querySelector('#df-60bfeafc-ff11-43fb-a53f-1c4aa2dcc34e');\n",
              "          const dataTable =\n",
              "            await google.colab.kernel.invokeFunction('convertToInteractive',\n",
              "                                                     [key], {});\n",
              "          if (!dataTable) return;\n",
              "\n",
              "          const docLinkHtml = 'Like what you see? Visit the ' +\n",
              "            '<a target=\"_blank\" href=https://colab.research.google.com/notebooks/data_table.ipynb>data table notebook</a>'\n",
              "            + ' to learn more about interactive tables.';\n",
              "          element.innerHTML = '';\n",
              "          dataTable['output_type'] = 'display_data';\n",
              "          await google.colab.output.renderOutput(dataTable, element);\n",
              "          const docLink = document.createElement('div');\n",
              "          docLink.innerHTML = docLinkHtml;\n",
              "          element.appendChild(docLink);\n",
              "        }\n",
              "      </script>\n",
              "    </div>\n",
              "  </div>\n",
              "  "
            ]
          },
          "metadata": {},
          "execution_count": 34
        }
      ]
    },
    {
      "cell_type": "code",
      "source": [
        ""
      ],
      "metadata": {
        "id": "A9xa8N5U6Vt-"
      },
      "execution_count": null,
      "outputs": []
    },
    {
      "cell_type": "code",
      "source": [
        "def create_random_csv_data_for_Cards(n):\n",
        "  card_number = range(1,n + 1)\n",
        "  bar_code = np.random.randint(10000, 99999, size=1000)\n",
        "  price = np.random.randint(100, 250, size=1000)\n",
        "  date_of_expiry = pd.date_range('1/1/2022' , '12/31/2024')\n",
        "  data = {'card_number' : card_number,\n",
        "          'bar_code' : bar_code,\n",
        "          'price' : price,\n",
        "          'date_of_expiry' : date_of_expiry\n",
        "          }\n",
        "  dataf = pd.DataFrame.from_dict(data, orient='index')\n",
        "  return dataf"
      ],
      "metadata": {
        "id": "lfqnanzLK-As"
      },
      "execution_count": null,
      "outputs": []
    },
    {
      "cell_type": "code",
      "source": [
        "from random import sample"
      ],
      "metadata": {
        "id": "6OIeR409OycE"
      },
      "execution_count": 6,
      "outputs": []
    },
    {
      "cell_type": "code",
      "source": [
        "dataf = create_random_csv_data_for_Cards(1000)"
      ],
      "metadata": {
        "id": "vZjd4i_gNXRI"
      },
      "execution_count": null,
      "outputs": []
    },
    {
      "cell_type": "code",
      "source": [
        "df"
      ],
      "metadata": {
        "colab": {
          "base_uri": "https://localhost:8080/",
          "height": 244
        },
        "id": "dTuM4Rusc1Dy",
        "outputId": "32beb8f8-0153-4311-e2ba-c7bd98aec83e"
      },
      "execution_count": null,
      "outputs": [
        {
          "output_type": "execute_result",
          "data": {
            "text/plain": [
              "                                0                    1                    2    \\\n",
              "card_number                       1                    2                    3   \n",
              "bar_code                      72399                89216                63462   \n",
              "price                           209                  148                  167   \n",
              "date_of_expiry  2022-01-01 00:00:00  2022-01-02 00:00:00  2022-01-03 00:00:00   \n",
              "\n",
              "                                3                    4                    5    \\\n",
              "card_number                       4                    5                    6   \n",
              "bar_code                      57698                25688                95544   \n",
              "price                           221                  136                  115   \n",
              "date_of_expiry  2022-01-04 00:00:00  2022-01-05 00:00:00  2022-01-06 00:00:00   \n",
              "\n",
              "                                6                    7                    8    \\\n",
              "card_number                       7                    8                    9   \n",
              "bar_code                      98996                15449                15136   \n",
              "price                           229                  147                  177   \n",
              "date_of_expiry  2022-01-07 00:00:00  2022-01-08 00:00:00  2022-01-09 00:00:00   \n",
              "\n",
              "                                9    ...      990      991      992      993  \\\n",
              "card_number                      10  ...    991.0    992.0    993.0    994.0   \n",
              "bar_code                      55019  ...  78946.0  25101.0  32867.0  93213.0   \n",
              "price                           181  ...    246.0    199.0    214.0    216.0   \n",
              "date_of_expiry  2022-01-10 00:00:00  ...      NaN      NaN      NaN      NaN   \n",
              "\n",
              "                    994      995      996      997      998      999  \n",
              "card_number       995.0    996.0    997.0    998.0    999.0   1000.0  \n",
              "bar_code        60213.0  23356.0  50431.0  54792.0  93332.0  53505.0  \n",
              "price             249.0    105.0    122.0    238.0    179.0    220.0  \n",
              "date_of_expiry      NaN      NaN      NaN      NaN      NaN      NaN  \n",
              "\n",
              "[4 rows x 1000 columns]"
            ],
            "text/html": [
              "\n",
              "  <div id=\"df-78300e0e-4054-49b5-a7c0-1f4c65c54416\">\n",
              "    <div class=\"colab-df-container\">\n",
              "      <div>\n",
              "<style scoped>\n",
              "    .dataframe tbody tr th:only-of-type {\n",
              "        vertical-align: middle;\n",
              "    }\n",
              "\n",
              "    .dataframe tbody tr th {\n",
              "        vertical-align: top;\n",
              "    }\n",
              "\n",
              "    .dataframe thead th {\n",
              "        text-align: right;\n",
              "    }\n",
              "</style>\n",
              "<table border=\"1\" class=\"dataframe\">\n",
              "  <thead>\n",
              "    <tr style=\"text-align: right;\">\n",
              "      <th></th>\n",
              "      <th>0</th>\n",
              "      <th>1</th>\n",
              "      <th>2</th>\n",
              "      <th>3</th>\n",
              "      <th>4</th>\n",
              "      <th>5</th>\n",
              "      <th>6</th>\n",
              "      <th>7</th>\n",
              "      <th>8</th>\n",
              "      <th>9</th>\n",
              "      <th>...</th>\n",
              "      <th>990</th>\n",
              "      <th>991</th>\n",
              "      <th>992</th>\n",
              "      <th>993</th>\n",
              "      <th>994</th>\n",
              "      <th>995</th>\n",
              "      <th>996</th>\n",
              "      <th>997</th>\n",
              "      <th>998</th>\n",
              "      <th>999</th>\n",
              "    </tr>\n",
              "  </thead>\n",
              "  <tbody>\n",
              "    <tr>\n",
              "      <th>card_number</th>\n",
              "      <td>1</td>\n",
              "      <td>2</td>\n",
              "      <td>3</td>\n",
              "      <td>4</td>\n",
              "      <td>5</td>\n",
              "      <td>6</td>\n",
              "      <td>7</td>\n",
              "      <td>8</td>\n",
              "      <td>9</td>\n",
              "      <td>10</td>\n",
              "      <td>...</td>\n",
              "      <td>991.0</td>\n",
              "      <td>992.0</td>\n",
              "      <td>993.0</td>\n",
              "      <td>994.0</td>\n",
              "      <td>995.0</td>\n",
              "      <td>996.0</td>\n",
              "      <td>997.0</td>\n",
              "      <td>998.0</td>\n",
              "      <td>999.0</td>\n",
              "      <td>1000.0</td>\n",
              "    </tr>\n",
              "    <tr>\n",
              "      <th>bar_code</th>\n",
              "      <td>72399</td>\n",
              "      <td>89216</td>\n",
              "      <td>63462</td>\n",
              "      <td>57698</td>\n",
              "      <td>25688</td>\n",
              "      <td>95544</td>\n",
              "      <td>98996</td>\n",
              "      <td>15449</td>\n",
              "      <td>15136</td>\n",
              "      <td>55019</td>\n",
              "      <td>...</td>\n",
              "      <td>78946.0</td>\n",
              "      <td>25101.0</td>\n",
              "      <td>32867.0</td>\n",
              "      <td>93213.0</td>\n",
              "      <td>60213.0</td>\n",
              "      <td>23356.0</td>\n",
              "      <td>50431.0</td>\n",
              "      <td>54792.0</td>\n",
              "      <td>93332.0</td>\n",
              "      <td>53505.0</td>\n",
              "    </tr>\n",
              "    <tr>\n",
              "      <th>price</th>\n",
              "      <td>209</td>\n",
              "      <td>148</td>\n",
              "      <td>167</td>\n",
              "      <td>221</td>\n",
              "      <td>136</td>\n",
              "      <td>115</td>\n",
              "      <td>229</td>\n",
              "      <td>147</td>\n",
              "      <td>177</td>\n",
              "      <td>181</td>\n",
              "      <td>...</td>\n",
              "      <td>246.0</td>\n",
              "      <td>199.0</td>\n",
              "      <td>214.0</td>\n",
              "      <td>216.0</td>\n",
              "      <td>249.0</td>\n",
              "      <td>105.0</td>\n",
              "      <td>122.0</td>\n",
              "      <td>238.0</td>\n",
              "      <td>179.0</td>\n",
              "      <td>220.0</td>\n",
              "    </tr>\n",
              "    <tr>\n",
              "      <th>date_of_expiry</th>\n",
              "      <td>2022-01-01 00:00:00</td>\n",
              "      <td>2022-01-02 00:00:00</td>\n",
              "      <td>2022-01-03 00:00:00</td>\n",
              "      <td>2022-01-04 00:00:00</td>\n",
              "      <td>2022-01-05 00:00:00</td>\n",
              "      <td>2022-01-06 00:00:00</td>\n",
              "      <td>2022-01-07 00:00:00</td>\n",
              "      <td>2022-01-08 00:00:00</td>\n",
              "      <td>2022-01-09 00:00:00</td>\n",
              "      <td>2022-01-10 00:00:00</td>\n",
              "      <td>...</td>\n",
              "      <td>NaN</td>\n",
              "      <td>NaN</td>\n",
              "      <td>NaN</td>\n",
              "      <td>NaN</td>\n",
              "      <td>NaN</td>\n",
              "      <td>NaN</td>\n",
              "      <td>NaN</td>\n",
              "      <td>NaN</td>\n",
              "      <td>NaN</td>\n",
              "      <td>NaN</td>\n",
              "    </tr>\n",
              "  </tbody>\n",
              "</table>\n",
              "<p>4 rows × 1000 columns</p>\n",
              "</div>\n",
              "      <button class=\"colab-df-convert\" onclick=\"convertToInteractive('df-78300e0e-4054-49b5-a7c0-1f4c65c54416')\"\n",
              "              title=\"Convert this dataframe to an interactive table.\"\n",
              "              style=\"display:none;\">\n",
              "        \n",
              "  <svg xmlns=\"http://www.w3.org/2000/svg\" height=\"24px\"viewBox=\"0 0 24 24\"\n",
              "       width=\"24px\">\n",
              "    <path d=\"M0 0h24v24H0V0z\" fill=\"none\"/>\n",
              "    <path d=\"M18.56 5.44l.94 2.06.94-2.06 2.06-.94-2.06-.94-.94-2.06-.94 2.06-2.06.94zm-11 1L8.5 8.5l.94-2.06 2.06-.94-2.06-.94L8.5 2.5l-.94 2.06-2.06.94zm10 10l.94 2.06.94-2.06 2.06-.94-2.06-.94-.94-2.06-.94 2.06-2.06.94z\"/><path d=\"M17.41 7.96l-1.37-1.37c-.4-.4-.92-.59-1.43-.59-.52 0-1.04.2-1.43.59L10.3 9.45l-7.72 7.72c-.78.78-.78 2.05 0 2.83L4 21.41c.39.39.9.59 1.41.59.51 0 1.02-.2 1.41-.59l7.78-7.78 2.81-2.81c.8-.78.8-2.07 0-2.86zM5.41 20L4 18.59l7.72-7.72 1.47 1.35L5.41 20z\"/>\n",
              "  </svg>\n",
              "      </button>\n",
              "      \n",
              "  <style>\n",
              "    .colab-df-container {\n",
              "      display:flex;\n",
              "      flex-wrap:wrap;\n",
              "      gap: 12px;\n",
              "    }\n",
              "\n",
              "    .colab-df-convert {\n",
              "      background-color: #E8F0FE;\n",
              "      border: none;\n",
              "      border-radius: 50%;\n",
              "      cursor: pointer;\n",
              "      display: none;\n",
              "      fill: #1967D2;\n",
              "      height: 32px;\n",
              "      padding: 0 0 0 0;\n",
              "      width: 32px;\n",
              "    }\n",
              "\n",
              "    .colab-df-convert:hover {\n",
              "      background-color: #E2EBFA;\n",
              "      box-shadow: 0px 1px 2px rgba(60, 64, 67, 0.3), 0px 1px 3px 1px rgba(60, 64, 67, 0.15);\n",
              "      fill: #174EA6;\n",
              "    }\n",
              "\n",
              "    [theme=dark] .colab-df-convert {\n",
              "      background-color: #3B4455;\n",
              "      fill: #D2E3FC;\n",
              "    }\n",
              "\n",
              "    [theme=dark] .colab-df-convert:hover {\n",
              "      background-color: #434B5C;\n",
              "      box-shadow: 0px 1px 3px 1px rgba(0, 0, 0, 0.15);\n",
              "      filter: drop-shadow(0px 1px 2px rgba(0, 0, 0, 0.3));\n",
              "      fill: #FFFFFF;\n",
              "    }\n",
              "  </style>\n",
              "\n",
              "      <script>\n",
              "        const buttonEl =\n",
              "          document.querySelector('#df-78300e0e-4054-49b5-a7c0-1f4c65c54416 button.colab-df-convert');\n",
              "        buttonEl.style.display =\n",
              "          google.colab.kernel.accessAllowed ? 'block' : 'none';\n",
              "\n",
              "        async function convertToInteractive(key) {\n",
              "          const element = document.querySelector('#df-78300e0e-4054-49b5-a7c0-1f4c65c54416');\n",
              "          const dataTable =\n",
              "            await google.colab.kernel.invokeFunction('convertToInteractive',\n",
              "                                                     [key], {});\n",
              "          if (!dataTable) return;\n",
              "\n",
              "          const docLinkHtml = 'Like what you see? Visit the ' +\n",
              "            '<a target=\"_blank\" href=https://colab.research.google.com/notebooks/data_table.ipynb>data table notebook</a>'\n",
              "            + ' to learn more about interactive tables.';\n",
              "          element.innerHTML = '';\n",
              "          dataTable['output_type'] = 'display_data';\n",
              "          await google.colab.output.renderOutput(dataTable, element);\n",
              "          const docLink = document.createElement('div');\n",
              "          docLink.innerHTML = docLinkHtml;\n",
              "          element.appendChild(docLink);\n",
              "        }\n",
              "      </script>\n",
              "    </div>\n",
              "  </div>\n",
              "  "
            ]
          },
          "metadata": {},
          "execution_count": 130
        },
        {
          "output_type": "stream",
          "name": "stdout",
          "text": [
            "Warning: Total number of columns (1000) exceeds max_columns (20) limiting to first (20) columns.\n"
          ]
        }
      ]
    },
    {
      "cell_type": "code",
      "source": [
        "import numpy as np"
      ],
      "metadata": {
        "id": "qLltUXq5Uia1"
      },
      "execution_count": 7,
      "outputs": []
    },
    {
      "cell_type": "markdown",
      "source": [
        ""
      ],
      "metadata": {
        "id": "fhiW8STSAk72"
      }
    }
  ]
}